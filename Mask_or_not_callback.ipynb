{
  "nbformat": 4,
  "nbformat_minor": 0,
  "metadata": {
    "colab": {
      "name": "Mask or not callback.ipynb",
      "provenance": [],
      "collapsed_sections": []
    },
    "kernelspec": {
      "name": "python3",
      "display_name": "Python 3"
    },
    "accelerator": "GPU",
    "widgets": {
      "application/vnd.jupyter.widget-state+json": {
        "ae3560314d8143af89da5e9617d3f01c": {
          "model_module": "@jupyter-widgets/controls",
          "model_name": "FileUploadModel",
          "state": {
            "_view_name": "FileUploadView",
            "_counter": 1,
            "style": "IPY_MODEL_9fd23ab4b804437b8f0a8fec8e518e0d",
            "_dom_classes": [],
            "description": "Upload",
            "multiple": false,
            "_model_name": "FileUploadModel",
            "data": [
              null
            ],
            "button_style": "",
            "_view_module": "@jupyter-widgets/controls",
            "_model_module_version": "1.5.0",
            "accept": "",
            "_view_count": null,
            "disabled": false,
            "_view_module_version": "1.5.0",
            "error": "",
            "description_tooltip": null,
            "metadata": [
              {
                "name": "image1.jfif",
                "type": "image/jpeg",
                "size": 8143,
                "lastModified": 1614578972069
              }
            ],
            "_model_module": "@jupyter-widgets/controls",
            "layout": "IPY_MODEL_3c2a7ef2c6b34a48af2a28f881dd9d00",
            "icon": "upload"
          }
        },
        "9fd23ab4b804437b8f0a8fec8e518e0d": {
          "model_module": "@jupyter-widgets/controls",
          "model_name": "ButtonStyleModel",
          "state": {
            "_view_name": "StyleView",
            "_model_name": "ButtonStyleModel",
            "_view_module": "@jupyter-widgets/base",
            "_model_module_version": "1.5.0",
            "_view_count": null,
            "button_color": null,
            "font_weight": "",
            "_view_module_version": "1.2.0",
            "_model_module": "@jupyter-widgets/controls"
          }
        },
        "3c2a7ef2c6b34a48af2a28f881dd9d00": {
          "model_module": "@jupyter-widgets/base",
          "model_name": "LayoutModel",
          "state": {
            "_view_name": "LayoutView",
            "grid_template_rows": null,
            "right": null,
            "justify_content": null,
            "_view_module": "@jupyter-widgets/base",
            "overflow": null,
            "_model_module_version": "1.2.0",
            "_view_count": null,
            "flex_flow": null,
            "width": null,
            "min_width": null,
            "border": null,
            "align_items": null,
            "bottom": null,
            "_model_module": "@jupyter-widgets/base",
            "top": null,
            "grid_column": null,
            "overflow_y": null,
            "overflow_x": null,
            "grid_auto_flow": null,
            "grid_area": null,
            "grid_template_columns": null,
            "flex": null,
            "_model_name": "LayoutModel",
            "justify_items": null,
            "grid_row": null,
            "max_height": null,
            "align_content": null,
            "visibility": null,
            "align_self": null,
            "height": null,
            "min_height": null,
            "padding": null,
            "grid_auto_rows": null,
            "grid_gap": null,
            "max_width": null,
            "order": null,
            "_view_module_version": "1.2.0",
            "grid_template_areas": null,
            "object_position": null,
            "object_fit": null,
            "grid_auto_columns": null,
            "margin": null,
            "display": null,
            "left": null
          }
        },
        "6c0af55853b24483bdc2b64ae5c553eb": {
          "model_module": "@jupyter-widgets/output",
          "model_name": "OutputModel",
          "state": {
            "_view_name": "OutputView",
            "msg_id": "",
            "_dom_classes": [],
            "_model_name": "OutputModel",
            "outputs": [
              {
                "output_type": "display_data",
                "metadata": {
                  "tags": []
                },
                "image/png": "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\n",
                "text/plain": "<PIL.Image.Image image mode=RGB size=128x96 at 0x7F51CE5E6150>"
              }
            ],
            "_view_module": "@jupyter-widgets/output",
            "_model_module_version": "1.0.0",
            "_view_count": null,
            "_view_module_version": "1.0.0",
            "layout": "IPY_MODEL_3282dd28d4fd41c7b54a6e77b7a03244",
            "_model_module": "@jupyter-widgets/output"
          }
        },
        "3282dd28d4fd41c7b54a6e77b7a03244": {
          "model_module": "@jupyter-widgets/base",
          "model_name": "LayoutModel",
          "state": {
            "_view_name": "LayoutView",
            "grid_template_rows": null,
            "right": null,
            "justify_content": null,
            "_view_module": "@jupyter-widgets/base",
            "overflow": null,
            "_model_module_version": "1.2.0",
            "_view_count": null,
            "flex_flow": null,
            "width": null,
            "min_width": null,
            "border": null,
            "align_items": null,
            "bottom": null,
            "_model_module": "@jupyter-widgets/base",
            "top": null,
            "grid_column": null,
            "overflow_y": null,
            "overflow_x": null,
            "grid_auto_flow": null,
            "grid_area": null,
            "grid_template_columns": null,
            "flex": null,
            "_model_name": "LayoutModel",
            "justify_items": null,
            "grid_row": null,
            "max_height": null,
            "align_content": null,
            "visibility": null,
            "align_self": null,
            "height": null,
            "min_height": null,
            "padding": null,
            "grid_auto_rows": null,
            "grid_gap": null,
            "max_width": null,
            "order": null,
            "_view_module_version": "1.2.0",
            "grid_template_areas": null,
            "object_position": null,
            "object_fit": null,
            "grid_auto_columns": null,
            "margin": null,
            "display": null,
            "left": null
          }
        },
        "df2a88cb15f34823a5701802bd44d9cd": {
          "model_module": "@jupyter-widgets/controls",
          "model_name": "LabelModel",
          "state": {
            "_view_name": "LabelView",
            "style": "IPY_MODEL_4f15a42a7f804961a9da11a7411781c3",
            "_dom_classes": [],
            "description": "",
            "_model_name": "LabelModel",
            "placeholder": "​",
            "_view_module": "@jupyter-widgets/controls",
            "_model_module_version": "1.5.0",
            "value": "Prediction: with_mask; Probability: 0.9999",
            "_view_count": null,
            "_view_module_version": "1.5.0",
            "description_tooltip": null,
            "_model_module": "@jupyter-widgets/controls",
            "layout": "IPY_MODEL_88e2cf9c94a743de87544ef34c0816b2"
          }
        },
        "4f15a42a7f804961a9da11a7411781c3": {
          "model_module": "@jupyter-widgets/controls",
          "model_name": "DescriptionStyleModel",
          "state": {
            "_view_name": "StyleView",
            "_model_name": "DescriptionStyleModel",
            "description_width": "",
            "_view_module": "@jupyter-widgets/base",
            "_model_module_version": "1.5.0",
            "_view_count": null,
            "_view_module_version": "1.2.0",
            "_model_module": "@jupyter-widgets/controls"
          }
        },
        "88e2cf9c94a743de87544ef34c0816b2": {
          "model_module": "@jupyter-widgets/base",
          "model_name": "LayoutModel",
          "state": {
            "_view_name": "LayoutView",
            "grid_template_rows": null,
            "right": null,
            "justify_content": null,
            "_view_module": "@jupyter-widgets/base",
            "overflow": null,
            "_model_module_version": "1.2.0",
            "_view_count": null,
            "flex_flow": null,
            "width": null,
            "min_width": null,
            "border": null,
            "align_items": null,
            "bottom": null,
            "_model_module": "@jupyter-widgets/base",
            "top": null,
            "grid_column": null,
            "overflow_y": null,
            "overflow_x": null,
            "grid_auto_flow": null,
            "grid_area": null,
            "grid_template_columns": null,
            "flex": null,
            "_model_name": "LayoutModel",
            "justify_items": null,
            "grid_row": null,
            "max_height": null,
            "align_content": null,
            "visibility": null,
            "align_self": null,
            "height": null,
            "min_height": null,
            "padding": null,
            "grid_auto_rows": null,
            "grid_gap": null,
            "max_width": null,
            "order": null,
            "_view_module_version": "1.2.0",
            "grid_template_areas": null,
            "object_position": null,
            "object_fit": null,
            "grid_auto_columns": null,
            "margin": null,
            "display": null,
            "left": null
          }
        },
        "8c19f6704f014effb5ebb2f1214050f9": {
          "model_module": "@jupyter-widgets/controls",
          "model_name": "ButtonModel",
          "state": {
            "_view_name": "ButtonView",
            "style": "IPY_MODEL_a0a6c18eafc34a1f9019b49dfa3aa957",
            "_dom_classes": [],
            "description": "Classify",
            "_model_name": "ButtonModel",
            "button_style": "",
            "_view_module": "@jupyter-widgets/controls",
            "_model_module_version": "1.5.0",
            "tooltip": "",
            "_view_count": null,
            "disabled": false,
            "_view_module_version": "1.5.0",
            "layout": "IPY_MODEL_2c0865f7f2cc4ad8a055f166cdc58d0f",
            "_model_module": "@jupyter-widgets/controls",
            "icon": ""
          }
        },
        "a0a6c18eafc34a1f9019b49dfa3aa957": {
          "model_module": "@jupyter-widgets/controls",
          "model_name": "ButtonStyleModel",
          "state": {
            "_view_name": "StyleView",
            "_model_name": "ButtonStyleModel",
            "_view_module": "@jupyter-widgets/base",
            "_model_module_version": "1.5.0",
            "_view_count": null,
            "button_color": null,
            "font_weight": "",
            "_view_module_version": "1.2.0",
            "_model_module": "@jupyter-widgets/controls"
          }
        },
        "2c0865f7f2cc4ad8a055f166cdc58d0f": {
          "model_module": "@jupyter-widgets/base",
          "model_name": "LayoutModel",
          "state": {
            "_view_name": "LayoutView",
            "grid_template_rows": null,
            "right": null,
            "justify_content": null,
            "_view_module": "@jupyter-widgets/base",
            "overflow": null,
            "_model_module_version": "1.2.0",
            "_view_count": null,
            "flex_flow": null,
            "width": null,
            "min_width": null,
            "border": null,
            "align_items": null,
            "bottom": null,
            "_model_module": "@jupyter-widgets/base",
            "top": null,
            "grid_column": null,
            "overflow_y": null,
            "overflow_x": null,
            "grid_auto_flow": null,
            "grid_area": null,
            "grid_template_columns": null,
            "flex": null,
            "_model_name": "LayoutModel",
            "justify_items": null,
            "grid_row": null,
            "max_height": null,
            "align_content": null,
            "visibility": null,
            "align_self": null,
            "height": null,
            "min_height": null,
            "padding": null,
            "grid_auto_rows": null,
            "grid_gap": null,
            "max_width": null,
            "order": null,
            "_view_module_version": "1.2.0",
            "grid_template_areas": null,
            "object_position": null,
            "object_fit": null,
            "grid_auto_columns": null,
            "margin": null,
            "display": null,
            "left": null
          }
        },
        "62c74c68a10946faa04c5c399fb56117": {
          "model_module": "@jupyter-widgets/controls",
          "model_name": "VBoxModel",
          "state": {
            "_view_name": "VBoxView",
            "_dom_classes": [],
            "_model_name": "VBoxModel",
            "_view_module": "@jupyter-widgets/controls",
            "_model_module_version": "1.5.0",
            "_view_count": null,
            "_view_module_version": "1.5.0",
            "box_style": "",
            "layout": "IPY_MODEL_89f520806b694f0cbca2a1b48df7e8b0",
            "_model_module": "@jupyter-widgets/controls",
            "children": [
              "IPY_MODEL_df64b6436ec64acda9d5929647424b76",
              "IPY_MODEL_47bd749b3b1e45a28622fc8c6513218b",
              "IPY_MODEL_8c19f6704f014effb5ebb2f1214050f9",
              "IPY_MODEL_6c0af55853b24483bdc2b64ae5c553eb",
              "IPY_MODEL_df2a88cb15f34823a5701802bd44d9cd"
            ]
          }
        },
        "89f520806b694f0cbca2a1b48df7e8b0": {
          "model_module": "@jupyter-widgets/base",
          "model_name": "LayoutModel",
          "state": {
            "_view_name": "LayoutView",
            "grid_template_rows": null,
            "right": null,
            "justify_content": null,
            "_view_module": "@jupyter-widgets/base",
            "overflow": null,
            "_model_module_version": "1.2.0",
            "_view_count": null,
            "flex_flow": null,
            "width": null,
            "min_width": null,
            "border": null,
            "align_items": null,
            "bottom": null,
            "_model_module": "@jupyter-widgets/base",
            "top": null,
            "grid_column": null,
            "overflow_y": null,
            "overflow_x": null,
            "grid_auto_flow": null,
            "grid_area": null,
            "grid_template_columns": null,
            "flex": null,
            "_model_name": "LayoutModel",
            "justify_items": null,
            "grid_row": null,
            "max_height": null,
            "align_content": null,
            "visibility": null,
            "align_self": null,
            "height": null,
            "min_height": null,
            "padding": null,
            "grid_auto_rows": null,
            "grid_gap": null,
            "max_width": null,
            "order": null,
            "_view_module_version": "1.2.0",
            "grid_template_areas": null,
            "object_position": null,
            "object_fit": null,
            "grid_auto_columns": null,
            "margin": null,
            "display": null,
            "left": null
          }
        },
        "df64b6436ec64acda9d5929647424b76": {
          "model_module": "@jupyter-widgets/controls",
          "model_name": "LabelModel",
          "state": {
            "_view_name": "LabelView",
            "style": "IPY_MODEL_913bc1c318ad42b098fc3e8548b0d303",
            "_dom_classes": [],
            "description": "",
            "_model_name": "LabelModel",
            "placeholder": "​",
            "_view_module": "@jupyter-widgets/controls",
            "_model_module_version": "1.5.0",
            "value": "Select your image!",
            "_view_count": null,
            "_view_module_version": "1.5.0",
            "description_tooltip": null,
            "_model_module": "@jupyter-widgets/controls",
            "layout": "IPY_MODEL_831986e5a43949d1b2d6a72571f43703"
          }
        },
        "47bd749b3b1e45a28622fc8c6513218b": {
          "model_module": "@jupyter-widgets/controls",
          "model_name": "FileUploadModel",
          "state": {
            "_view_name": "FileUploadView",
            "_counter": 0,
            "style": "IPY_MODEL_11b12d6e8c944fde82532e31cd175a2b",
            "_dom_classes": [],
            "description": "Upload",
            "multiple": false,
            "_model_name": "FileUploadModel",
            "data": [],
            "button_style": "",
            "_view_module": "@jupyter-widgets/controls",
            "_model_module_version": "1.5.0",
            "accept": "",
            "_view_count": null,
            "disabled": false,
            "_view_module_version": "1.5.0",
            "error": "",
            "description_tooltip": null,
            "metadata": [],
            "_model_module": "@jupyter-widgets/controls",
            "layout": "IPY_MODEL_09e35c02c37d4553b341d24c3c6e7434",
            "icon": "upload"
          }
        },
        "913bc1c318ad42b098fc3e8548b0d303": {
          "model_module": "@jupyter-widgets/controls",
          "model_name": "DescriptionStyleModel",
          "state": {
            "_view_name": "StyleView",
            "_model_name": "DescriptionStyleModel",
            "description_width": "",
            "_view_module": "@jupyter-widgets/base",
            "_model_module_version": "1.5.0",
            "_view_count": null,
            "_view_module_version": "1.2.0",
            "_model_module": "@jupyter-widgets/controls"
          }
        },
        "831986e5a43949d1b2d6a72571f43703": {
          "model_module": "@jupyter-widgets/base",
          "model_name": "LayoutModel",
          "state": {
            "_view_name": "LayoutView",
            "grid_template_rows": null,
            "right": null,
            "justify_content": null,
            "_view_module": "@jupyter-widgets/base",
            "overflow": null,
            "_model_module_version": "1.2.0",
            "_view_count": null,
            "flex_flow": null,
            "width": null,
            "min_width": null,
            "border": null,
            "align_items": null,
            "bottom": null,
            "_model_module": "@jupyter-widgets/base",
            "top": null,
            "grid_column": null,
            "overflow_y": null,
            "overflow_x": null,
            "grid_auto_flow": null,
            "grid_area": null,
            "grid_template_columns": null,
            "flex": null,
            "_model_name": "LayoutModel",
            "justify_items": null,
            "grid_row": null,
            "max_height": null,
            "align_content": null,
            "visibility": null,
            "align_self": null,
            "height": null,
            "min_height": null,
            "padding": null,
            "grid_auto_rows": null,
            "grid_gap": null,
            "max_width": null,
            "order": null,
            "_view_module_version": "1.2.0",
            "grid_template_areas": null,
            "object_position": null,
            "object_fit": null,
            "grid_auto_columns": null,
            "margin": null,
            "display": null,
            "left": null
          }
        },
        "11b12d6e8c944fde82532e31cd175a2b": {
          "model_module": "@jupyter-widgets/controls",
          "model_name": "ButtonStyleModel",
          "state": {
            "_view_name": "StyleView",
            "_model_name": "ButtonStyleModel",
            "_view_module": "@jupyter-widgets/base",
            "_model_module_version": "1.5.0",
            "_view_count": null,
            "button_color": null,
            "font_weight": "",
            "_view_module_version": "1.2.0",
            "_model_module": "@jupyter-widgets/controls"
          }
        },
        "09e35c02c37d4553b341d24c3c6e7434": {
          "model_module": "@jupyter-widgets/base",
          "model_name": "LayoutModel",
          "state": {
            "_view_name": "LayoutView",
            "grid_template_rows": null,
            "right": null,
            "justify_content": null,
            "_view_module": "@jupyter-widgets/base",
            "overflow": null,
            "_model_module_version": "1.2.0",
            "_view_count": null,
            "flex_flow": null,
            "width": null,
            "min_width": null,
            "border": null,
            "align_items": null,
            "bottom": null,
            "_model_module": "@jupyter-widgets/base",
            "top": null,
            "grid_column": null,
            "overflow_y": null,
            "overflow_x": null,
            "grid_auto_flow": null,
            "grid_area": null,
            "grid_template_columns": null,
            "flex": null,
            "_model_name": "LayoutModel",
            "justify_items": null,
            "grid_row": null,
            "max_height": null,
            "align_content": null,
            "visibility": null,
            "align_self": null,
            "height": null,
            "min_height": null,
            "padding": null,
            "grid_auto_rows": null,
            "grid_gap": null,
            "max_width": null,
            "order": null,
            "_view_module_version": "1.2.0",
            "grid_template_areas": null,
            "object_position": null,
            "object_fit": null,
            "grid_auto_columns": null,
            "margin": null,
            "display": null,
            "left": null
          }
        }
      }
    }
  },
  "cells": [
    {
      "cell_type": "code",
      "metadata": {
        "colab": {
          "base_uri": "https://localhost:8080/"
        },
        "id": "89aziOmh3LnS",
        "outputId": "1de30ad0-06b0-4a31-f272-45ca09e344ef"
      },
      "source": [
        "!pip install -Uqq fastbook"
      ],
      "execution_count": null,
      "outputs": [
        {
          "output_type": "stream",
          "text": [
            "\u001b[K     |████████████████████████████████| 727kB 17.2MB/s \n",
            "\u001b[K     |████████████████████████████████| 51kB 8.1MB/s \n",
            "\u001b[K     |████████████████████████████████| 1.2MB 52.1MB/s \n",
            "\u001b[K     |████████████████████████████████| 194kB 57.3MB/s \n",
            "\u001b[K     |████████████████████████████████| 61kB 10.0MB/s \n",
            "\u001b[K     |████████████████████████████████| 51kB 8.7MB/s \n",
            "\u001b[?25h"
          ],
          "name": "stdout"
        }
      ]
    },
    {
      "cell_type": "code",
      "metadata": {
        "colab": {
          "base_uri": "https://localhost:8080/"
        },
        "id": "AtFjzAHR3hJa",
        "outputId": "50af86ec-cd62-4e8d-ea15-b5c32aa7a013"
      },
      "source": [
        "import fastbook\r\n",
        "fastbook.setup_book()"
      ],
      "execution_count": null,
      "outputs": [
        {
          "output_type": "stream",
          "text": [
            "Mounted at /content/gdrive\n"
          ],
          "name": "stdout"
        }
      ]
    },
    {
      "cell_type": "code",
      "metadata": {
        "id": "McQ_u-Zh3sNQ"
      },
      "source": [
        "from fastai.vision.all import *\r\n",
        "import pandas as pd\r\n",
        "from pathlib import Path"
      ],
      "execution_count": null,
      "outputs": []
    },
    {
      "cell_type": "code",
      "metadata": {
        "colab": {
          "base_uri": "https://localhost:8080/"
        },
        "id": "u6lOmnXE3xgt",
        "outputId": "5a65fe27-58a3-4219-d13c-5ccf80414983"
      },
      "source": [
        "from google.colab import drive\r\n",
        "drive.mount('/gdrive')"
      ],
      "execution_count": null,
      "outputs": [
        {
          "output_type": "stream",
          "text": [
            "Mounted at /gdrive\n"
          ],
          "name": "stdout"
        }
      ]
    },
    {
      "cell_type": "code",
      "metadata": {
        "id": "05_x2q8M3ykY"
      },
      "source": [
        "path_root = '/gdrive/My Drive/Colab Notebooks/Pictures/dataset/'\r\n",
        "fns = get_image_files(path_root)"
      ],
      "execution_count": null,
      "outputs": []
    },
    {
      "cell_type": "code",
      "metadata": {
        "id": "6FPpAyD_32aB"
      },
      "source": [
        "masks = DataBlock(\r\n",
        "    blocks=(ImageBlock, CategoryBlock), \r\n",
        "    get_items=get_image_files, \r\n",
        "    splitter=RandomSplitter(valid_pct=0.2, seed=42),\r\n",
        "    get_y=parent_label\r\n",
        "    )"
      ],
      "execution_count": null,
      "outputs": []
    },
    {
      "cell_type": "markdown",
      "metadata": {
        "id": "djmWcRGR5lpc"
      },
      "source": [
        "# Transforming the images\r\n",
        "\r\n",
        "By default Resize crops the images to fit a square shape of the size requested, using the full width or height. This can result in losing some important details. Alternatively, you can ask fastai to pad the images with zeros (black), or squish/stretch them:\r\n",
        "\r\n",
        "**bears = bears.new(item_tfms=Resize(128, ResizeMethod.Squish)**\r\n",
        "\r\n",
        "**bears = bears.new(item_tfms=Resize(128, ResizeMethod.Pad, pad_mode='zeros'))** \r\n",
        "\r\n",
        "Here's another example where we replace Resize with RandomResizedCrop, which is the transform that crop the images then remove some of the features that allow us to perform recognition\r\n",
        "\r\n",
        "**bears = bears.new(item_tfms=RandomResizedCrop(128, min_scale=0.3))**\r\n",
        "\r\n",
        "Data augmentation refers to creating random variations of our input data, such that they appear different, but do not actually change the meaning of the data.\r\n",
        "\r\n",
        "**bears = bears.new(item_tfms=Resize(128), batch_tfms=aug_transforms(mult=2))**\r\n",
        "\r\n",
        "Then : \r\n",
        "dls = bears.dataloaders(path)\r\n"
      ]
    },
    {
      "cell_type": "code",
      "metadata": {
        "id": "b4ylLW-U6a5b"
      },
      "source": [
        ""
      ],
      "execution_count": null,
      "outputs": []
    },
    {
      "cell_type": "markdown",
      "metadata": {
        "id": "ivKBFkHTJYeg"
      },
      "source": [
        "We can create another datablock object and make datablock object which is an identical copy of an existing datablock object and change only few pieces. For this we use .new"
      ]
    },
    {
      "cell_type": "code",
      "metadata": {
        "id": "PQejLB5X34lF"
      },
      "source": [
        "masks = masks.new(\r\n",
        "  item_tfms=RandomResizedCrop(128, min_scale=0.3),\r\n",
        "  batch_tfms=aug_transforms(mult=2)  \r\n",
        ")\r\n",
        "dls = masks.dataloaders(path_root)"
      ],
      "execution_count": null,
      "outputs": []
    },
    {
      "cell_type": "code",
      "metadata": {
        "id": "Lb7xyFy44Chj"
      },
      "source": [
        "learn = cnn_learner(dls, resnet50, metrics=error_rate, path = '/gdrive/My Drive/Colab Notebooks')"
      ],
      "execution_count": null,
      "outputs": []
    },
    {
      "cell_type": "code",
      "metadata": {
        "colab": {
          "base_uri": "https://localhost:8080/",
          "height": 425
        },
        "id": "-9pwVHbC4FHQ",
        "outputId": "71a79f4f-d63f-410f-ca4d-daa9eff58608"
      },
      "source": [
        "learn.fit(n_epoch=10, cbs=SaveModelCallback(fname = 'mask_model'))"
      ],
      "execution_count": null,
      "outputs": [
        {
          "output_type": "display_data",
          "data": {
            "text/html": [
              "<table border=\"1\" class=\"dataframe\">\n",
              "  <thead>\n",
              "    <tr style=\"text-align: left;\">\n",
              "      <th>epoch</th>\n",
              "      <th>train_loss</th>\n",
              "      <th>valid_loss</th>\n",
              "      <th>error_rate</th>\n",
              "      <th>time</th>\n",
              "    </tr>\n",
              "  </thead>\n",
              "  <tbody>\n",
              "    <tr>\n",
              "      <td>0</td>\n",
              "      <td>0.073054</td>\n",
              "      <td>0.163285</td>\n",
              "      <td>0.048583</td>\n",
              "      <td>00:06</td>\n",
              "    </tr>\n",
              "    <tr>\n",
              "      <td>1</td>\n",
              "      <td>0.062285</td>\n",
              "      <td>0.165912</td>\n",
              "      <td>0.052632</td>\n",
              "      <td>00:06</td>\n",
              "    </tr>\n",
              "    <tr>\n",
              "      <td>2</td>\n",
              "      <td>0.060089</td>\n",
              "      <td>0.146075</td>\n",
              "      <td>0.056680</td>\n",
              "      <td>00:06</td>\n",
              "    </tr>\n",
              "    <tr>\n",
              "      <td>3</td>\n",
              "      <td>0.052106</td>\n",
              "      <td>0.118939</td>\n",
              "      <td>0.036437</td>\n",
              "      <td>00:06</td>\n",
              "    </tr>\n",
              "    <tr>\n",
              "      <td>4</td>\n",
              "      <td>0.050322</td>\n",
              "      <td>0.102700</td>\n",
              "      <td>0.036437</td>\n",
              "      <td>00:06</td>\n",
              "    </tr>\n",
              "    <tr>\n",
              "      <td>5</td>\n",
              "      <td>0.056225</td>\n",
              "      <td>0.166998</td>\n",
              "      <td>0.048583</td>\n",
              "      <td>00:06</td>\n",
              "    </tr>\n",
              "    <tr>\n",
              "      <td>6</td>\n",
              "      <td>0.051676</td>\n",
              "      <td>0.169757</td>\n",
              "      <td>0.060729</td>\n",
              "      <td>00:06</td>\n",
              "    </tr>\n",
              "    <tr>\n",
              "      <td>7</td>\n",
              "      <td>0.044708</td>\n",
              "      <td>0.148291</td>\n",
              "      <td>0.060729</td>\n",
              "      <td>00:06</td>\n",
              "    </tr>\n",
              "    <tr>\n",
              "      <td>8</td>\n",
              "      <td>0.051380</td>\n",
              "      <td>0.147817</td>\n",
              "      <td>0.060729</td>\n",
              "      <td>00:06</td>\n",
              "    </tr>\n",
              "    <tr>\n",
              "      <td>9</td>\n",
              "      <td>0.048905</td>\n",
              "      <td>0.189180</td>\n",
              "      <td>0.064777</td>\n",
              "      <td>00:06</td>\n",
              "    </tr>\n",
              "  </tbody>\n",
              "</table>"
            ],
            "text/plain": [
              "<IPython.core.display.HTML object>"
            ]
          },
          "metadata": {
            "tags": []
          }
        },
        {
          "output_type": "stream",
          "text": [
            "Better model found at epoch 0 with valid_loss value: 0.1632852852344513.\n",
            "Better model found at epoch 2 with valid_loss value: 0.14607498049736023.\n",
            "Better model found at epoch 3 with valid_loss value: 0.11893913894891739.\n",
            "Better model found at epoch 4 with valid_loss value: 0.10270021110773087.\n"
          ],
          "name": "stdout"
        }
      ]
    },
    {
      "cell_type": "code",
      "metadata": {
        "colab": {
          "base_uri": "https://localhost:8080/"
        },
        "id": "wtADH2xPILwQ",
        "outputId": "72faab62-40fb-4519-a82b-4098fd64b360"
      },
      "source": [
        "learn.load('mask_model')\r\n",
        "learn.export('mask_model.pkl')"
      ],
      "execution_count": null,
      "outputs": [
        {
          "output_type": "stream",
          "text": [
            "/usr/local/lib/python3.7/dist-packages/fastai/learner.py:56: UserWarning: Saved filed doesn't contain an optimizer state.\n",
            "  elif with_opt: warn(\"Saved filed doesn't contain an optimizer state.\")\n"
          ],
          "name": "stderr"
        }
      ]
    },
    {
      "cell_type": "code",
      "metadata": {
        "colab": {
          "base_uri": "https://localhost:8080/",
          "height": 310
        },
        "id": "FXD2FDibLdG5",
        "outputId": "966502a4-13e4-421f-de52-cf9bc1a77b2f"
      },
      "source": [
        "interp = ClassificationInterpretation.from_learner(learn)\r\n",
        "interp.plot_confusion_matrix()"
      ],
      "execution_count": null,
      "outputs": [
        {
          "output_type": "display_data",
          "data": {
            "text/html": [
              ""
            ],
            "text/plain": [
              "<IPython.core.display.HTML object>"
            ]
          },
          "metadata": {
            "tags": []
          }
        },
        {
          "output_type": "display_data",
          "data": {
            "image/png": "[encoded data removed]",
            "text/plain": [
              "<Figure size 432x288 with 1 Axes>"
            ]
          },
          "metadata": {
            "tags": [],
            "needs_background": "light"
          }
        }
      ]
    },
    {
      "cell_type": "code",
      "metadata": {
        "id": "3V-l-wTiJ0cO"
      },
      "source": [
        "model_imported = load_learner('/gdrive/My Drive/Colab Notebooks/mask_model.pkl')"
      ],
      "execution_count": null,
      "outputs": []
    },
    {
      "cell_type": "code",
      "metadata": {
        "colab": {
          "base_uri": "https://localhost:8080/",
          "height": 35
        },
        "id": "rDibTUDvpjSg",
        "outputId": "c80ce644-5ddc-49b6-bb50-d8c27afc74fc"
      },
      "source": [
        "model_imported.predict('/gdrive/My Drive/Colab Notebooks/Pictures/train/Image_1.jpg')"
      ],
      "execution_count": null,
      "outputs": [
        {
          "output_type": "display_data",
          "data": {
            "text/html": [
              ""
            ],
            "text/plain": [
              "<IPython.core.display.HTML object>"
            ]
          },
          "metadata": {
            "tags": []
          }
        },
        {
          "output_type": "execute_result",
          "data": {
            "text/plain": [
              "('without_mask', tensor(1), tensor([0.0044, 0.9956]))"
            ]
          },
          "metadata": {
            "tags": []
          },
          "execution_count": 103
        }
      ]
    },
    {
      "cell_type": "code",
      "metadata": {
        "colab": {
          "base_uri": "https://localhost:8080/"
        },
        "id": "8BGCaiu4Fb0K",
        "outputId": "f3ddbfdc-361c-4d28-cbeb-c45a973c3d3c"
      },
      "source": [
        "model_imported.dls.vocab"
      ],
      "execution_count": null,
      "outputs": [
        {
          "output_type": "execute_result",
          "data": {
            "text/plain": [
              "['with_mask', 'without_mask']"
            ]
          },
          "metadata": {
            "tags": []
          },
          "execution_count": 105
        }
      ]
    },
    {
      "cell_type": "code",
      "metadata": {
        "id": "blBUJUZECTbB"
      },
      "source": [
        "import PIL\r\n",
        "import numpy as np\r\n",
        "from ipywidgets import *\r\n",
        "import ipywidgets as widgets"
      ],
      "execution_count": null,
      "outputs": []
    },
    {
      "cell_type": "code",
      "metadata": {
        "colab": {
          "base_uri": "https://localhost:8080/",
          "height": 49,
          "referenced_widgets": [
            "ae3560314d8143af89da5e9617d3f01c",
            "9fd23ab4b804437b8f0a8fec8e518e0d",
            "3c2a7ef2c6b34a48af2a28f881dd9d00"
          ]
        },
        "id": "c_LazAzGCchM",
        "outputId": "b784afa8-6980-4c8d-a9d8-7b59b3a812f0"
      },
      "source": [
        "btn_upload = widgets.FileUpload()\r\n",
        "btn_upload"
      ],
      "execution_count": null,
      "outputs": [
        {
          "output_type": "display_data",
          "data": {
            "application/vnd.jupyter.widget-view+json": {
              "model_id": "ae3560314d8143af89da5e9617d3f01c",
              "version_minor": 0,
              "version_major": 2
            },
            "text/plain": [
              "FileUpload(value={}, description='Upload')"
            ]
          },
          "metadata": {
            "tags": []
          }
        }
      ]
    },
    {
      "cell_type": "code",
      "metadata": {
        "id": "JDnVf7ndDFDN"
      },
      "source": [
        "img = PILImage.create(btn_upload.data[-1])"
      ],
      "execution_count": null,
      "outputs": []
    },
    {
      "cell_type": "code",
      "metadata": {
        "colab": {
          "base_uri": "https://localhost:8080/",
          "height": 113,
          "referenced_widgets": [
            "6c0af55853b24483bdc2b64ae5c553eb",
            "3282dd28d4fd41c7b54a6e77b7a03244"
          ]
        },
        "id": "Y-7A3azQDJYk",
        "outputId": "f3c8e8ee-6159-4cd9-e987-6191653a7439"
      },
      "source": [
        "out_pl = widgets.Output()\r\n",
        "out_pl.clear_output()\r\n",
        "with out_pl: display(img.to_thumb(128,128))\r\n",
        "out_pl"
      ],
      "execution_count": null,
      "outputs": [
        {
          "output_type": "display_data",
          "data": {
            "application/vnd.jupyter.widget-view+json": {
              "model_id": "6c0af55853b24483bdc2b64ae5c553eb",
              "version_minor": 0,
              "version_major": 2
            },
            "text/plain": [
              "Output()"
            ]
          },
          "metadata": {
            "tags": []
          }
        }
      ]
    },
    {
      "cell_type": "code",
      "metadata": {
        "colab": {
          "base_uri": "https://localhost:8080/",
          "height": 49,
          "referenced_widgets": [
            "df2a88cb15f34823a5701802bd44d9cd",
            "4f15a42a7f804961a9da11a7411781c3",
            "88e2cf9c94a743de87544ef34c0816b2"
          ]
        },
        "id": "kt33ijQEDMIO",
        "outputId": "6ccdaf3d-7800-4c96-95da-be7ef09397c7"
      },
      "source": [
        "pred,pred_idx,probs = model_imported.predict(img)\r\n",
        "lbl_pred = widgets.Label()\r\n",
        "lbl_pred.value = f'Prediction: {pred}; Probability: {probs[pred_idx]:.04f}'\r\n",
        "lbl_pred"
      ],
      "execution_count": null,
      "outputs": [
        {
          "output_type": "display_data",
          "data": {
            "text/html": [
              ""
            ],
            "text/plain": [
              "<IPython.core.display.HTML object>"
            ]
          },
          "metadata": {
            "tags": []
          }
        },
        {
          "output_type": "display_data",
          "data": {
            "application/vnd.jupyter.widget-view+json": {
              "model_id": "df2a88cb15f34823a5701802bd44d9cd",
              "version_minor": 0,
              "version_major": 2
            },
            "text/plain": [
              "Label(value='Prediction: with_mask; Probability: 0.9999')"
            ]
          },
          "metadata": {
            "tags": []
          }
        }
      ]
    },
    {
      "cell_type": "code",
      "metadata": {
        "colab": {
          "base_uri": "https://localhost:8080/",
          "height": 49,
          "referenced_widgets": [
            "8c19f6704f014effb5ebb2f1214050f9",
            "a0a6c18eafc34a1f9019b49dfa3aa957",
            "2c0865f7f2cc4ad8a055f166cdc58d0f"
          ]
        },
        "id": "E7GeIQAeDZRo",
        "outputId": "d461645f-46f1-4656-e20f-9746bc084125"
      },
      "source": [
        "btn_run = widgets.Button(description='Classify')\r\n",
        "btn_run"
      ],
      "execution_count": null,
      "outputs": [
        {
          "output_type": "display_data",
          "data": {
            "application/vnd.jupyter.widget-view+json": {
              "model_id": "8c19f6704f014effb5ebb2f1214050f9",
              "version_minor": 0,
              "version_major": 2
            },
            "text/plain": [
              "Button(description='Classify', style=ButtonStyle())"
            ]
          },
          "metadata": {
            "tags": []
          }
        }
      ]
    },
    {
      "cell_type": "code",
      "metadata": {
        "id": "QE1iJH3eF7Wp"
      },
      "source": [
        "def on_click_classify(change):\r\n",
        "    img = PILImage.create(btn_upload.data[-1])\r\n",
        "    out_pl.clear_output()\r\n",
        "    with out_pl: display(img.to_thumb(128,128))\r\n",
        "    pred,pred_idx,probs = model_imported.predict(img)\r\n",
        "    lbl_pred.value = f'Prediction: {pred}; Probability: {probs[pred_idx]:.04f}'\r\n",
        "\r\n",
        "btn_run.on_click(on_click_classify)"
      ],
      "execution_count": null,
      "outputs": []
    },
    {
      "cell_type": "code",
      "metadata": {
        "id": "LYyfuQscGGLE"
      },
      "source": [
        "btn_upload = widgets.FileUpload()"
      ],
      "execution_count": null,
      "outputs": []
    },
    {
      "cell_type": "code",
      "metadata": {
        "colab": {
          "base_uri": "https://localhost:8080/",
          "height": 241,
          "referenced_widgets": [
            "62c74c68a10946faa04c5c399fb56117",
            "89f520806b694f0cbca2a1b48df7e8b0",
            "df64b6436ec64acda9d5929647424b76",
            "47bd749b3b1e45a28622fc8c6513218b",
            "8c19f6704f014effb5ebb2f1214050f9",
            "6c0af55853b24483bdc2b64ae5c553eb",
            "df2a88cb15f34823a5701802bd44d9cd",
            "913bc1c318ad42b098fc3e8548b0d303",
            "831986e5a43949d1b2d6a72571f43703",
            "11b12d6e8c944fde82532e31cd175a2b",
            "09e35c02c37d4553b341d24c3c6e7434",
            "a0a6c18eafc34a1f9019b49dfa3aa957",
            "2c0865f7f2cc4ad8a055f166cdc58d0f",
            "4f15a42a7f804961a9da11a7411781c3",
            "88e2cf9c94a743de87544ef34c0816b2",
            "3282dd28d4fd41c7b54a6e77b7a03244"
          ]
        },
        "id": "qwywBXBhDjf0",
        "outputId": "73d8754e-ff4c-4f29-e441-c0afb1caf75e"
      },
      "source": [
        "VBox([widgets.Label('Select your image!'), \r\n",
        "      btn_upload, btn_run, out_pl, lbl_pred])"
      ],
      "execution_count": null,
      "outputs": [
        {
          "output_type": "display_data",
          "data": {
            "application/vnd.jupyter.widget-view+json": {
              "model_id": "62c74c68a10946faa04c5c399fb56117",
              "version_minor": 0,
              "version_major": 2
            },
            "text/plain": [
              "VBox(children=(Label(value='Select your image!'), FileUpload(value={}, description='Upload'), Button(descripti…"
            ]
          },
          "metadata": {
            "tags": []
          }
        }
      ]
    }
  ]
}